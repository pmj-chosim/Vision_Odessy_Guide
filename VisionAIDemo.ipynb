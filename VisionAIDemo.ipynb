{
 "cells": [
  {
   "cell_type": "markdown",
   "metadata": {},
   "source": [
    "1. 이미지분석\n",
    "2. custom vision- clssification\n",
    "3. face \n",
    "4. OCR\n",
    "5. Video Indexer\n",
    "\n",
    "# Azure AI Vision 솔루션"
   ]
  },
  {
   "cell_type": "markdown",
   "metadata": {},
   "source": [
    "* .NET 패키지 설치"
   ]
  },
  {
   "cell_type": "code",
   "execution_count": 31,
   "metadata": {
    "dotnet_interactive": {
     "language": "csharp"
    },
    "polyglot_notebook": {
     "kernelName": "csharp"
    }
   },
   "outputs": [
    {
     "data": {
      "text/html": [
       "<div><div></div><div></div><div><strong>Installed Packages</strong><ul><li><span>Azure.AI.Vision.Common, 0.11.0</span></li><li><span>Azure.AI.Vision.Core, 0.10.0-beta.1</span></li><li><span>Azure.AI.Vision.ImageAnalysis, 1.0.0-beta.2</span></li><li><span>Microsoft.Azure.CognitiveServices.Language.LUIS.Runtime, 3.0.0</span></li><li><span>Microsoft.Azure.CognitiveServices.Vision.ComputerVision, 7.0.1</span></li><li><span>Microsoft.Azure.CognitiveServices.Vision.Face, 2.8.0-preview.3</span></li><li><span>Microsoft.Extensions.Configuration.Json, 3.1.3</span></li><li><span>System.Drawing.Common, 4.7.0</span></li></ul></div></div>"
      ]
     },
     "metadata": {},
     "output_type": "display_data"
    }
   ],
   "source": [
    "#r \"nuget: Microsoft.Extensions.Configuration.Json, 3.1.3\"\n",
    "#r \"nuget: System.Drawing.Common, 4.7.0\"\n",
    "#r \"nuget: Microsoft.Azure.CognitiveServices.Vision.ComputerVision\"\n",
    "#r \"nuget: Azure.AI.Vision.Common\"\n",
    "#r \"nuget: Microsoft.Azure.CognitiveServices.Vision.Face, 2.8.0-preview.3\"\n",
    "#r \"nuget: Azure.AI.Vision.Core, 0.10.0-beta.1\"\n",
    "#r \"nuget: Azure.AI.Vision.ImageAnalysis, 1.0.0-beta.2\"\n",
    "#r \"nuget: Microsoft.Azure.CognitiveServices.Language.LUIS.Runtime, 3.0.0\""
   ]
  },
  {
   "cell_type": "markdown",
   "metadata": {},
   "source": [
    "* namespace 가져오기"
   ]
  },
  {
   "cell_type": "code",
   "execution_count": 32,
   "metadata": {
    "dotnet_interactive": {
     "language": "csharp"
    },
    "polyglot_notebook": {
     "kernelName": "csharp"
    }
   },
   "outputs": [],
   "source": [
    "//필요한 것만 남기기\n",
    "using System;\n",
    "using System.IO;\n",
    "using System.Net.Http;\n",
    "using System.Net.Http.Headers;\n",
    "using System.Text;\n",
    "using System.Text.Json;\n",
    "using System.Threading.Tasks;\n",
    "using System.Drawing;\n",
    "using Microsoft.Extensions.Configuration;\n",
    "using Azure;\n",
    "using Azure.AI.Vision.ImageAnalysis;\n",
    "using Azure.AI.Vision.Common;\n",
    "using Azure.AI.Vision;\n",
    "using Microsoft.Azure.CognitiveServices.Vision.Face;\n",
    "using Microsoft.Azure.CognitiveServices.Vision.Face.Models;\n",
    "using Microsoft.Azure.CognitiveServices.Vision.ComputerVision;\n",
    "using Microsoft.Azure.CognitiveServices.Vision.ComputerVision.Models;\n",
    "using Azure.AI.Vision.Core.Options;\n",
    "using Azure.AI.Vision.Core.Input;\n",
    "using System.Linq;\n",
    "using System.Collections.Generic;\n",
    "using System.Threading;\n",
    "using Microsoft.Azure.CognitiveServices.Language.LUIS.Runtime;\n",
    "using Microsoft.Rest;\n"
   ]
  },
  {
   "cell_type": "markdown",
   "metadata": {},
   "source": [
    "# 1. 이미지 분석"
   ]
  },
  {
   "cell_type": "code",
   "execution_count": 33,
   "metadata": {
    "dotnet_interactive": {
     "language": "csharp"
    },
    "polyglot_notebook": {
     "kernelName": "csharp"
    }
   },
   "outputs": [],
   "source": [
    "// 사용할 이미지의 주소 가져오기\n",
    "string address_1=\"C:\\\\Users\\\\parkm\\\\Desktop\\\\Vision\\\\mslearn-ai-vision\\\\Labfiles\\\\01-analyze-images\\\\C-Sharp\\\\image-analysis\\\\\";\n",
    "public string imageFile = address_1+\"images/street.jpg\";"
   ]
  },
  {
   "cell_type": "code",
   "execution_count": 34,
   "metadata": {
    "dotnet_interactive": {
     "language": "csharp"
    },
    "polyglot_notebook": {
     "kernelName": "csharp"
    }
   },
   "outputs": [],
   "source": [
    "//API 사용을 위한 인증 절차\n",
    "public string aiSvcEndpoint = \"https://fruit-train.cognitiveservices.azure.com/\";\n",
    "public string aiSvcKey =\"68309624561e49688c4cbc6143304744\";\n",
    "\n",
    "public var client = new ImageAnalysisClient(new Uri(aiSvcEndpoint), new AzureKeyCredential(aiSvcKey));"
   ]
  },
  {
   "cell_type": "code",
   "execution_count": 35,
   "metadata": {
    "dotnet_interactive": {
     "language": "csharp"
    },
    "polyglot_notebook": {
     "kernelName": "csharp"
    }
   },
   "outputs": [],
   "source": [
    "//이미지 분석 API 처리 함수\n",
    "public static void AnalyzeImage(string imageFile, ImageAnalysisClient client)\n",
    "        {\n",
    "            Console.WriteLine($\"\\nAnalyzing {imageFile} \\n\");\n",
    "\n",
    "            // 이미지 파일을 전달할 수 있도록 파일 스트림 형태로 바꾸기\n",
    "            using FileStream stream = new FileStream(imageFile,\n",
    "                                                     FileMode.Open);\n",
    "\n",
    "            // 이미지 분석 결과 가져오기\n",
    "            ImageAnalysisResult result = client.Analyze(\n",
    "                BinaryData.FromStream(stream),\n",
    "                VisualFeatures.Caption | VisualFeatures.DenseCaptions | VisualFeatures.Objects | VisualFeatures.Tags | VisualFeatures.People);\n",
    "                        \n",
    "            \n",
    "            // 가장 정확한 이미지 분석 결과 출력\n",
    "            if (result.Caption.Text != null)\n",
    "            {\n",
    "                Console.WriteLine(\" Caption:\");\n",
    "                Console.WriteLine($\"   \\\"{result.Caption.Text}\\\", 신뢰도 {result.Caption.Confidence:0.00}\\n\");\n",
    "            }\n",
    "\n",
    "            // 이미지에 대한 다양한 분석 결과 출력\n",
    "            Console.WriteLine(\" Dense Captions:\");\n",
    "            foreach (DenseCaption denseCaption in result.DenseCaptions.Values)\n",
    "            {\n",
    "                Console.WriteLine($\"   Caption: '{denseCaption.Text}', 신뢰도: {denseCaption.Confidence:0.00}\");\n",
    "            }\n",
    "\n",
    "        }"
   ]
  },
  {
   "cell_type": "code",
   "execution_count": 36,
   "metadata": {
    "dotnet_interactive": {
     "language": "csharp"
    },
    "polyglot_notebook": {
     "kernelName": "csharp"
    }
   },
   "outputs": [
    {
     "name": "stdout",
     "output_type": "stream",
     "text": [
      "\n",
      "Analyzing C:\\Users\\parkm\\Desktop\\Vision\\mslearn-ai-vision\\Labfiles\\01-analyze-images\\C-Sharp\\image-analysis\\images/street.jpg \n",
      "\n",
      " Caption:\n",
      "   \"a man walking a dog on a leash on a street\", 신뢰도 0.82\n",
      "\n",
      " Dense Captions:\n",
      "   Caption: 'a man walking a dog on a leash on a street', 신뢰도: 0.82\n",
      "   Caption: 'a man walking on a street', 신뢰도: 0.69\n",
      "   Caption: 'a yellow car on the street', 신뢰도: 0.78\n",
      "   Caption: 'a black dog walking on the street', 신뢰도: 0.75\n",
      "   Caption: 'a blurry image of a blue car', 신뢰도: 0.82\n",
      "   Caption: 'a yellow taxi cab on the street', 신뢰도: 0.72\n"
     ]
    }
   ],
   "source": [
    "// 이미지 분석\n",
    "AnalyzeImage(imageFile, client);"
   ]
  },
  {
   "cell_type": "code",
   "execution_count": 37,
   "metadata": {
    "dotnet_interactive": {
     "language": "csharp"
    },
    "polyglot_notebook": {
     "kernelName": "csharp"
    }
   },
   "outputs": [],
   "source": [
    " // 이미지 배경화면 제거 API 처리 함수\n",
    "public static async Task BackgroundForeground(string imageFile, string endpoint, string key){\n",
    "           \n",
    "            Console.WriteLine($\" Background removal:\");\n",
    "            // API 버전과 모드 지정\n",
    "            string apiVersion = \"2023-02-01-preview\";\n",
    "            string mode = \"backgroundRemoval\"; // \"foregroundMatting\" 또는 \"backgroundRemoval\" 지정 가능\n",
    "            string url = $\"computervision/imageanalysis:segment?api-version={apiVersion}&mode={mode}\";\n",
    "\n",
    "            // API 호출\n",
    "            using (var client = new HttpClient())\n",
    "            {\n",
    "                var contentType = new MediaTypeWithQualityHeaderValue(\"application/json\");\n",
    "                client.BaseAddress = new Uri(endpoint);\n",
    "                client.DefaultRequestHeaders.Accept.Add(contentType);\n",
    "                client.DefaultRequestHeaders.Add(\"Ocp-Apim-Subscription-Key\", key);\n",
    "\n",
    "                var data = new{\n",
    "                    url = $\"https://github.com/MicrosoftLearning/mslearn-ai-vision/blob/main/Labfiles/01-analyze-images/Python/image-analysis/images/street.jpg?raw=true\"\n",
    "                };\n",
    "\n",
    "                var jsonData = JsonSerializer.Serialize(data);\n",
    "                var contentData = new StringContent(jsonData, Encoding.UTF8, contentType);\n",
    "                var response = await client.PostAsync(url, contentData);\n",
    "\n",
    "                File.WriteAllBytes(\"background.png\", response.Content.ReadAsByteArrayAsync().Result);\n",
    "                Console.WriteLine(\"  Results saved in background.png\\n\");\n",
    "                \n",
    "            }\n",
    "            \n",
    "}"
   ]
  },
  {
   "cell_type": "code",
   "execution_count": 38,
   "metadata": {
    "dotnet_interactive": {
     "language": "csharp"
    },
    "polyglot_notebook": {
     "kernelName": "csharp"
    }
   },
   "outputs": [
    {
     "name": "stdout",
     "output_type": "stream",
     "text": [
      " Background removal:\n",
      "  Results saved in background.png\n",
      "\n"
     ]
    }
   ],
   "source": [
    "// 배경 제거\n",
    "await BackgroundForeground(imageFile, aiSvcEndpoint, aiSvcKey);"
   ]
  },
  {
   "cell_type": "markdown",
   "metadata": {},
   "source": [
    "# 3.얼굴 감지"
   ]
  },
  {
   "cell_type": "markdown",
   "metadata": {},
   "source": [
    "* Computer Vision (얼굴 이정표)"
   ]
  },
  {
   "cell_type": "code",
   "execution_count": 39,
   "metadata": {
    "dotnet_interactive": {
     "language": "csharp"
    },
    "polyglot_notebook": {
     "kernelName": "csharp"
    }
   },
   "outputs": [],
   "source": [
    "// 사용할 이미지의 주소 가져오기\n",
    "public string imageFile = \"C:/Users/parkm/Desktop/Vision/mslearn-ai-vision/Labfiles/04-face/C-Sharp/computer-vision/images/people.jpg\";"
   ]
  },
  {
   "cell_type": "code",
   "execution_count": 40,
   "metadata": {
    "dotnet_interactive": {
     "language": "csharp"
    },
    "polyglot_notebook": {
     "kernelName": "csharp"
    }
   },
   "outputs": [],
   "source": [
    "//API 사용을 위한 인증 절차\n",
    "var aiSvcEndpoint = \"https://fruit-train.cognitiveservices.azure.com/\";\n",
    "var aiSvcKey = \"3446cc4f896148e79b4864c0d86fd497\";\n",
    "\n",
    "public var client = new ImageAnalysisClient(\n",
    "    new Uri(aiSvcEndpoint),\n",
    "    new AzureKeyCredential(aiSvcKey)\n",
    ");"
   ]
  },
  {
   "cell_type": "code",
   "execution_count": 41,
   "metadata": {
    "dotnet_interactive": {
     "language": "csharp"
    },
    "polyglot_notebook": {
     "kernelName": "csharp"
    }
   },
   "outputs": [],
   "source": [
    "//얼굴 이정표 분석 API 처리 함수\n",
    "public static void AnalyzeImage(string imageFile, ImageAnalysisClient client)\n",
    "{\n",
    "    Console.WriteLine($\"\\nAnalyzing {imageFile} \\n\");\n",
    "\n",
    "    // 이미지 파일을 전달할 수 있도록 파일 스트림 형태로 바꾸기\n",
    "    using FileStream stream = new FileStream(imageFile, FileMode.Open);\n",
    "\n",
    "    // 이미지에 있는 사람 감지 결과 가져오기\n",
    "    ImageAnalysisResult result = client.Analyze(\n",
    "        BinaryData.FromStream(stream),\n",
    "        VisualFeatures.People);\n",
    "\n",
    "    // 감지 결과 출력하기\n",
    "    Console.WriteLine($\"이미지에서의 얼굴 분석 결과:\");\n",
    "    Console.WriteLine($\" Metadata: Model: {result.ModelVersion} Image dimensions: {result.Metadata.Width} x {result.Metadata.Height}\");\n",
    "    Console.WriteLine($\" 분석된 사람들:\");\n",
    "    foreach (DetectedPerson person in result.People.Values)\n",
    "    {\n",
    "        if(person.Confidence > 0.3)\n",
    "            Console.WriteLine($\"   사람 : Bounding box {person.BoundingBox.ToString()}, 정확도 {person.Confidence:F4}\");\n",
    "    }\n",
    "}"
   ]
  },
  {
   "cell_type": "code",
   "execution_count": 42,
   "metadata": {
    "dotnet_interactive": {
     "language": "csharp"
    },
    "polyglot_notebook": {
     "kernelName": "csharp"
    }
   },
   "outputs": [
    {
     "name": "stdout",
     "output_type": "stream",
     "text": [
      "\n",
      "Analyzing C:/Users/parkm/Desktop/Vision/mslearn-ai-vision/Labfiles/04-face/C-Sharp/computer-vision/images/people.jpg \n",
      "\n",
      "이미지에서의 얼굴 분석 결과:\n",
      " Metadata: Model: 2023-10-01 Image dimensions: 800 x 514\n",
      " 분석된 사람들:\n",
      "   사람 : Bounding box Top: 73, Left: 454, Width: 345, Height: 439, 정확도 0.9518\n",
      "   사람 : Bounding box Top: 0, Left: 87, Width: 491, Height: 513, 정확도 0.9195\n"
     ]
    }
   ],
   "source": [
    "//얼굴 이정표 분석\n",
    "AnalyzeImage(imageFile, client);"
   ]
  },
  {
   "cell_type": "markdown",
   "metadata": {},
   "source": [
    "* Face API (얼굴 특징 분석)"
   ]
  },
  {
   "cell_type": "code",
   "execution_count": 43,
   "metadata": {
    "dotnet_interactive": {
     "language": "csharp"
    },
    "polyglot_notebook": {
     "kernelName": "csharp"
    }
   },
   "outputs": [],
   "source": [
    "// 사용할 이미지의 주소 가져오기\n",
    "public string imageFile = \"C:/Users/parkm/Desktop/Vision/mslearn-ai-vision/Labfiles/04-face/C-Sharp/face-api/images/people.jpg\";"
   ]
  },
  {
   "cell_type": "code",
   "execution_count": 44,
   "metadata": {
    "dotnet_interactive": {
     "language": "csharp"
    },
    "polyglot_notebook": {
     "kernelName": "csharp"
    }
   },
   "outputs": [],
   "source": [
    "//API 사용을 위한 인증 절차\n",
    "string cogSvcEndpoint = \"https://fruit-train.cognitiveservices.azure.com/\";\n",
    "string cogSvcKey = \"3446cc4f896148e79b4864c0d86fd497\";\n",
    "\n",
    "Microsoft.Azure.CognitiveServices.Vision.Face.ApiKeyServiceClientCredentials credentials = new Microsoft.Azure.CognitiveServices.Vision.Face.ApiKeyServiceClientCredentials(cogSvcKey);\n",
    "\n",
    "public FaceClient client = new FaceClient(credentials)\n",
    "{\n",
    "    Endpoint = cogSvcEndpoint\n",
    "};"
   ]
  },
  {
   "cell_type": "code",
   "execution_count": 45,
   "metadata": {
    "dotnet_interactive": {
     "language": "csharp"
    },
    "polyglot_notebook": {
     "kernelName": "csharp"
    }
   },
   "outputs": [],
   "source": [
    "// API에게 요청할 내용 설정\n",
    "public static IList<FaceAttributeType> SetFaceFeatures()\n",
    "{\n",
    "    IList<FaceAttributeType> features = new FaceAttributeType[]\n",
    "    {\n",
    "        FaceAttributeType.Occlusion, //얼굴 부분 가리는 정도\n",
    "        FaceAttributeType.Blur, //흐림 정도\n",
    "        FaceAttributeType.Glasses //안경 착용 여부\n",
    "    };\n",
    "\n",
    "    return features;\n",
    "}"
   ]
  },
  {
   "cell_type": "code",
   "execution_count": 46,
   "metadata": {
    "dotnet_interactive": {
     "language": "csharp"
    },
    "polyglot_notebook": {
     "kernelName": "csharp"
    }
   },
   "outputs": [],
   "source": [
    "// 이미지를 파일 스트림 형태로 변환하는 함수\n",
    "public static FileStream ReadImageData(string imageFile)\n",
    "{\n",
    "    var imageData = File.OpenRead(imageFile);\n",
    "    return imageData;\n",
    "}"
   ]
  },
  {
   "cell_type": "code",
   "execution_count": 47,
   "metadata": {
    "dotnet_interactive": {
     "language": "csharp"
    },
    "polyglot_notebook": {
     "kernelName": "csharp"
    }
   },
   "outputs": [],
   "source": [
    "// 얼굴 특징 분석 API 처리 함수\n",
    "public static async Task<List<DetectedFace>> DetectFaces(string imageFile, FaceClient client)\n",
    "{\n",
    "    Console.WriteLine($\"Detecting faces in {imageFile}\");\n",
    "\n",
    "    IList<FaceAttributeType> features = SetFaceFeatures(); // 앞서 지정한 얼굴 특징들 API에게 요청\n",
    "\n",
    "    using (var imageData = ReadImageData(imageFile))\n",
    "    {\n",
    "        var detected_faces = await client.Face.DetectWithStreamAsync(imageData, returnFaceAttributes: features, returnFaceId: false);\n",
    "        return detected_faces.ToList();\n",
    "    }\n",
    "}"
   ]
  },
  {
   "cell_type": "code",
   "execution_count": 50,
   "metadata": {
    "dotnet_interactive": {
     "language": "csharp"
    },
    "polyglot_notebook": {
     "kernelName": "csharp"
    }
   },
   "outputs": [
    {
     "name": "stdout",
     "output_type": "stream",
     "text": [
      "Detecting faces in C:/Users/parkm/Desktop/Vision/mslearn-ai-vision/Labfiles/04-face/C-Sharp/face-api/images/people.jpg\r\n"
     ]
    }
   ],
   "source": [
    "//얼굴 특징 분석 !!!!!!!!!!!!!!!!!!!!!!-> 디텍팅하게 수정\n",
    "await DetectFaces(imageFile, client);"
   ]
  },
  {
   "cell_type": "markdown",
   "metadata": {},
   "source": [
    "# 4. OCR"
   ]
  },
  {
   "cell_type": "code",
   "execution_count": 5,
   "metadata": {
    "dotnet_interactive": {
     "language": "csharp"
    },
    "polyglot_notebook": {
     "kernelName": "csharp"
    }
   },
   "outputs": [],
   "source": [
    "// 사용할 이미지의 주소 가져오기\n",
    " public static String address_3=\"C:\\\\Users\\\\parkm\\\\Desktop\\\\Vision\\\\mslearn-ai-vision\\\\Labfiles\\\\05-ocr\\\\C-Sharp\\\\read-text\\\\images\\\\\";"
   ]
  },
  {
   "cell_type": "code",
   "execution_count": 22,
   "metadata": {
    "dotnet_interactive": {
     "language": "csharp"
    },
    "polyglot_notebook": {
     "kernelName": "csharp"
    }
   },
   "outputs": [],
   "source": [
    "//API 사용을 위한 인증 절차\n",
    "public string aiSvcEndpoint = \"https://fruit-train.cognitiveservices.azure.com/\";\n",
    "public string aiSvcKey = \"68309624561e49688c4cbc6143304744\";\n",
    "\n",
    "\n",
    "public ImageAnalysisClient client = new ImageAnalysisClient(\n",
    "    new Uri(aiSvcEndpoint),\n",
    "    new AzureKeyCredential(aiSvcKey)\n",
    ");\n"
   ]
  },
  {
   "cell_type": "code",
   "execution_count": 25,
   "metadata": {},
   "outputs": [],
   "source": [
    "// OCR API 처리 함수\n",
    "public static void GetTextRead(string imageFile, ImageAnalysisClient client){\n",
    "    Console.WriteLine($\"\\nReading text from {imageFile} \\n\");\n",
    "\n",
    "    // 이미지를 파일 스트림 형태로 변환\n",
    "    using FileStream stream = new FileStream(imageFile,\n",
    "                                                     FileMode.Open);\n",
    "\n",
    "    // 이미지 분석 결과 받기\n",
    "    ImageAnalysisResult result = client.Analyze(\n",
    "    BinaryData.FromStream(stream),\n",
    "    VisualFeatures.Read);\n",
    "                \n",
    "    stream.Close();\n",
    "                \n",
    "    // 분석 결과 보여주기\n",
    "    if (result.Read != null){\n",
    "        Console.WriteLine($\"Text:\");\n",
    "                \n",
    "        \n",
    "        System.Drawing.Image image = System.Drawing.Image.FromFile(imageFile);\n",
    "        Graphics graphics = Graphics.FromImage(image);\n",
    "        Pen pen = new Pen(Color.Cyan, 3);\n",
    "                    \n",
    "        foreach (var line in result.Read.Blocks.SelectMany(block => block.Lines)){\n",
    "            // 분석 결과 출력\n",
    "            Console.WriteLine($\"   '{line.Text}'\");\n",
    "                        \n",
    "            var drawLinePolygon = true;\n",
    "                        \n",
    "            Console.WriteLine($\"   Bounding Polygon: [{string.Join(\" \", line.BoundingPolygon)}]\");   \n",
    "                        \n",
    "            foreach (DetectedTextWord word in line.Words){\n",
    "                Console.WriteLine($\"     Word: '{word.Text}', Confidence {word.Confidence:F4}, Bounding Polygon: [{string.Join(\" \", word.BoundingPolygon)}]\");\n",
    "                            \n",
    "                drawLinePolygon = false;\n",
    "                var r = word.BoundingPolygon;\n",
    "                        \n",
    "                Point[] polygonPoints = {\n",
    "                    new Point(r[0].X, r[0].Y),\n",
    "                    new Point(r[1].X, r[1].Y),\n",
    "                    new Point(r[2].X, r[2].Y),\n",
    "                    new Point(r[3].X, r[3].Y)\n",
    "                };\n",
    "                        \n",
    "                graphics.DrawPolygon(pen, polygonPoints);\n",
    "            }\n",
    "                        \n",
    "                        \n",
    "            // 이미지 위에 분석 결과 나타내기\n",
    "            if (drawLinePolygon) {\n",
    "                var r = line.BoundingPolygon;\n",
    "                        \n",
    "                Point[] polygonPoints = {\n",
    "                    new Point(r[0].X, r[0].Y),\n",
    "                    new Point(r[1].X, r[1].Y),\n",
    "                    new Point(r[2].X, r[2].Y),\n",
    "                    new Point(r[3].X, r[3].Y)\n",
    "                };\n",
    "                        \n",
    "            graphics.DrawPolygon(pen, polygonPoints);\n",
    "            }\n",
    "        }\n",
    "                        \n",
    "    // 분석 내용이 반영된 이미지 저장\n",
    "    String output_file = \"text.jpg\";\n",
    "    image.Save(output_file);\n",
    "    Console.WriteLine(\"\\nResults saved in \" + output_file + \"\\n\");   \n",
    "    }\n",
    "}"
   ]
  },
  {
   "cell_type": "code",
   "execution_count": 26,
   "metadata": {
    "dotnet_interactive": {
     "language": "csharp"
    },
    "polyglot_notebook": {
     "kernelName": "csharp"
    }
   },
   "outputs": [
    {
     "name": "stdout",
     "output_type": "stream",
     "text": [
      "\n",
      "Reading text from C:\\Users\\parkm\\Desktop\\Vision\\mslearn-ai-vision\\Labfiles\\05-ocr\\C-Sharp\\read-text\\images\\Lincoln.jpg \n",
      "\n",
      "Text:\n",
      "   'IN THIS TEMPLE'\n",
      "   Bounding Polygon: [(328, 171) (477, 169) (477, 184) (328, 186)]\n",
      "     Word: 'IN', Confidence 0.9930, Bounding Polygon: [(328, 171) (342, 171) (342, 187) (328, 187)]\n",
      "     Word: 'THIS', Confidence 0.9910, Bounding Polygon: [(357, 171) (397, 170) (397, 185) (357, 186)]\n",
      "     Word: 'TEMPLE', Confidence 0.9930, Bounding Polygon: [(407, 170) (474, 170) (474, 184) (407, 185)]\n",
      "   'AS IN THE HEARTS OF THE PEOPLE'\n",
      "   Bounding Polygon: [(240, 193) (564, 188) (564, 203) (240, 210)]\n",
      "     Word: 'AS', Confidence 0.9950, Bounding Polygon: [(241, 194) (262, 194) (262, 210) (241, 211)]\n",
      "     Word: 'IN', Confidence 0.9980, Bounding Polygon: [(270, 193) (284, 193) (284, 210) (270, 210)]\n",
      "     Word: 'THE', Confidence 0.9930, Bounding Polygon: [(298, 193) (332, 192) (332, 208) (298, 209)]\n",
      "     Word: 'HEARTS', Confidence 0.9940, Bounding Polygon: [(340, 192) (410, 191) (410, 207) (340, 208)]\n",
      "     Word: 'OF', Confidence 0.9930, Bounding Polygon: [(420, 190) (444, 190) (444, 206) (420, 206)]\n",
      "     Word: 'THE', Confidence 0.9930, Bounding Polygon: [(452, 190) (487, 189) (487, 205) (452, 206)]\n",
      "     Word: 'PEOPLE', Confidence 0.9960, Bounding Polygon: [(495, 189) (562, 188) (562, 204) (495, 205)]\n",
      "   'FOR WHOM HE SAVED THE UNION'\n",
      "   Bounding Polygon: [(237, 214) (568, 208) (569, 224) (237, 231)]\n",
      "     Word: 'FOR', Confidence 0.9950, Bounding Polygon: [(238, 214) (271, 213) (271, 231) (237, 231)]\n",
      "     Word: 'WHOM', Confidence 0.9880, Bounding Polygon: [(281, 213) (339, 212) (339, 229) (281, 230)]\n",
      "     Word: 'HE', Confidence 0.9980, Bounding Polygon: [(355, 212) (378, 212) (378, 228) (354, 229)]\n",
      "     Word: 'SAVED', Confidence 0.9940, Bounding Polygon: [(388, 212) (441, 211) (440, 227) (388, 228)]\n",
      "     Word: 'THE', Confidence 0.9930, Bounding Polygon: [(455, 211) (491, 210) (490, 226) (455, 227)]\n",
      "     Word: 'UNION', Confidence 0.9970, Bounding Polygon: [(501, 210) (560, 209) (559, 225) (500, 226)]\n",
      "   'THE MEMORY OF ABRAHAM LINCOLN'\n",
      "   Bounding Polygon: [(226, 235) (575, 229) (576, 245) (226, 252)]\n",
      "     Word: 'THE', Confidence 0.9980, Bounding Polygon: [(228, 235) (260, 235) (260, 252) (228, 252)]\n",
      "     Word: 'MEMORY', Confidence 0.9960, Bounding Polygon: [(268, 235) (349, 234) (349, 250) (268, 251)]\n",
      "     Word: 'OF', Confidence 0.9990, Bounding Polygon: [(358, 234) (382, 234) (381, 250) (357, 250)]\n",
      "     Word: 'ABRAHAM', Confidence 0.9960, Bounding Polygon: [(389, 233) (473, 232) (472, 248) (389, 249)]\n",
      "     Word: 'LINCOLN', Confidence 0.9940, Bounding Polygon: [(488, 231) (570, 229) (570, 245) (487, 247)]\n",
      "   'IS ENSHRINED FOREVER'\n",
      "   Bounding Polygon: [(288, 255) (515, 253) (516, 268) (288, 271)]\n",
      "     Word: 'IS', Confidence 0.9960, Bounding Polygon: [(288, 256) (302, 256) (302, 272) (288, 272)]\n",
      "     Word: 'ENSHRINED', Confidence 0.9930, Bounding Polygon: [(311, 256) (416, 255) (417, 270) (311, 272)]\n",
      "     Word: 'FOREVER', Confidence 0.9950, Bounding Polygon: [(431, 255) (510, 253) (511, 268) (431, 270)]\n",
      "\n",
      "Results saved in text.jpg\n",
      "\n"
     ]
    }
   ],
   "source": [
    "//1. Lincoln.jpg 읽기\n",
    "GetTextRead(address_3+\"Lincoln.jpg\", client);"
   ]
  },
  {
   "cell_type": "code",
   "execution_count": null,
   "metadata": {
    "dotnet_interactive": {
     "language": "csharp"
    },
    "polyglot_notebook": {
     "kernelName": "csharp"
    }
   },
   "outputs": [],
   "source": [
    "//2.Note.jpg 읽기\n",
    "GetTextRead(address_3+\"Note.jpg\", client);"
   ]
  }
 ],
 "metadata": {
  "kernelspec": {
   "display_name": ".NET (C#)",
   "language": "C#",
   "name": ".net-csharp"
  },
  "polyglot_notebook": {
   "kernelInfo": {
    "defaultKernelName": "csharp",
    "items": [
     {
      "aliases": [],
      "languageName": "csharp",
      "name": "csharp"
     }
    ]
   }
  }
 },
 "nbformat": 4,
 "nbformat_minor": 2
}
